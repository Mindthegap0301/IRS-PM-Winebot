{
 "cells": [
  {
   "cell_type": "code",
   "execution_count": 4,
   "metadata": {},
   "outputs": [],
   "source": [
    "import random\n",
    "import pandas as pd\n",
    "import numpy as np\n",
    "import re\n",
    "import pickle\n",
    "import sklearn"
   ]
  },
  {
   "cell_type": "code",
   "execution_count": 21,
   "metadata": {},
   "outputs": [],
   "source": [
    "df = pd.read_csv('merged_product_info_list.csv')"
   ]
  },
  {
   "cell_type": "code",
   "execution_count": 46,
   "metadata": {},
   "outputs": [],
   "source": [
    "df.to_csv('merged_product_info_list.csv', index=False)"
   ]
  },
  {
   "cell_type": "code",
   "execution_count": 19,
   "metadata": {},
   "outputs": [
    {
     "data": {
      "text/plain": [
       "product_id            3437\n",
       "product_name          3437\n",
       "product_price         3437\n",
       "product_link          3437\n",
       "Product_desc          3437\n",
       "Expert Review         1194\n",
       "Customer Review        110\n",
       "Appearance            1231\n",
       "Nose                  1307\n",
       "Food Pairing          3437\n",
       "Alcohol percentage    3373\n",
       "Bottle volume ml      3437\n",
       "Gift box              3369\n",
       "Country of origin     3381\n",
       "Varietal              2485\n",
       "Brand                 3437\n",
       "alcohol_type          3437\n",
       "Varietals              330\n",
       "Organic                 33\n",
       "Vintage                345\n",
       "Style                   16\n",
       "Score                  519\n",
       "Finish                  89\n",
       "Type                    96\n",
       "Palate                1301\n",
       "dtype: int64"
      ]
     },
     "execution_count": 19,
     "metadata": {},
     "output_type": "execute_result"
    }
   ],
   "source": [
    "df.count()"
   ]
  },
  {
   "cell_type": "code",
   "execution_count": 11,
   "metadata": {},
   "outputs": [],
   "source": [
    "df['Merged Brand'] = df.apply(lambda row: row['Palate'] if pd.notna(row['Palate']) else row['palate  '], axis=1)\n",
    "df.drop(['Palate', 'palate  '], axis=1, inplace=True)\n",
    "df.rename(columns={'Merged Brand': 'Palate'}, inplace=True)"
   ]
  },
  {
   "cell_type": "code",
   "execution_count": 29,
   "metadata": {},
   "outputs": [],
   "source": [
    "def create_taste_description(row):\n",
    "    parts = []\n",
    "    if not pd.isna(row['Appearance']):\n",
    "        parts.append(f\"It is {row['Appearance']}\")\n",
    "    if not pd.isna(row['Nose']):\n",
    "        parts.append(f\"smells like {row['Nose']}\")\n",
    "    if not pd.isna(row['Palate']):\n",
    "        parts.append(f\"tastes like {row['Palate']}\")\n",
    "    if not pd.isna(row['Finish']):\n",
    "        parts.append(f\"finished with {row['Finish']}\")\n",
    "    return ', '.join(parts)\n",
    "\n",
    "df['taste_description'] = df.apply(create_taste_description, axis=1)"
   ]
  },
  {
   "cell_type": "code",
   "execution_count": 30,
   "metadata": {},
   "outputs": [
    {
     "name": "stdout",
     "output_type": "stream",
     "text": [
      "0    It is Golden yellow, smells like Pear, peach, ...\n",
      "1                                                     \n",
      "2                                                     \n",
      "3                                                     \n",
      "4                                                     \n",
      "Name: taste_description, dtype: object\n"
     ]
    }
   ],
   "source": [
    "print(df['taste_description'].head())"
   ]
  },
  {
   "cell_type": "code",
   "execution_count": 35,
   "metadata": {},
   "outputs": [],
   "source": [
    "df['Food Pairing'] = df['Food Pairing'].str.strip('[]')"
   ]
  },
  {
   "cell_type": "code",
   "execution_count": 40,
   "metadata": {},
   "outputs": [],
   "source": [
    "def create_food_pair_description(row):\n",
    "    if not row:\n",
    "        return \"\"\n",
    "    else:\n",
    "        return f\"suitable serving for {''.join(row)}\"\n",
    "\n",
    "df['food_pair_description'] = df['Food Pairing'].apply(create_food_pair_description).str.replace(\"'\", '')"
   ]
  },
  {
   "cell_type": "code",
   "execution_count": 41,
   "metadata": {},
   "outputs": [
    {
     "name": "stdout",
     "output_type": "stream",
     "text": [
      "0    suitable serving for Seafood, Pasta, Cheese\n",
      "1                                               \n",
      "2                                               \n",
      "3                                               \n",
      "4                                               \n",
      "Name: food_pair_description, dtype: object\n"
     ]
    }
   ],
   "source": [
    "print(df['food_pair_description'].head())"
   ]
  },
  {
   "cell_type": "code",
   "execution_count": 43,
   "metadata": {},
   "outputs": [],
   "source": [
    "def create_brand_and_varietal(row):\n",
    "    parts = [\"It's\"]\n",
    "    if not pd.isna(row['Varietal']):\n",
    "        parts.append(f\"a {row['Varietal']}\")\n",
    "    if not pd.isna(row['alcohol_type']):\n",
    "        parts.append(f\"{row['alcohol_type']}\")\n",
    "    if not pd.isna(row['Country of origin']):\n",
    "        parts.append(f\"from {row['Country of origin']}\")\n",
    "    if not pd.isna(row['Varietals']):\n",
    "        parts.append(f\",{row['Varietals']}\")\n",
    "    if not pd.isna(row['Brand']):\n",
    "        parts.append(f\",made by {row['Brand']}\")\n",
    "    return ' '.join(parts)\n",
    "\n",
    "df['varietal_description'] = df.apply(create_brand_and_varietal, axis=1)"
   ]
  },
  {
   "cell_type": "code",
   "execution_count": 44,
   "metadata": {},
   "outputs": [
    {
     "name": "stdout",
     "output_type": "stream",
     "text": [
      "0     It's a Wheat Beer from Germany ,made by Erdinger\n",
      "1     It's a Wheat Beer from Germany ,made by Erdinger\n",
      "2    It's a Wheat Beer from Germany ,made by Franzi...\n",
      "3     It's a Lager Beer from Germany ,made by Paulaner\n",
      "4     It's a Wheat Beer from Germany ,made by Paulaner\n",
      "Name: varietal_description, dtype: object\n"
     ]
    }
   ],
   "source": [
    "print(df['varietal_description'].head())"
   ]
  },
  {
   "cell_type": "code",
   "execution_count": 72,
   "metadata": {},
   "outputs": [],
   "source": [
    "def create_training_text(text, output_file):\n",
    "    cleaned_text = text.strip()\n",
    "    cleaned_text = re.sub(r'\\n', ' ', cleaned_text)\n",
    "    cleaned_text = re.sub(r'([^.!?])\\n', r'\\1.\\n', cleaned_text)\n",
    "    \n",
    "    with open(output_file, 'a', encoding='utf-8') as file:\n",
    "        file.write(cleaned_text + '\\n')"
   ]
  },
  {
   "cell_type": "code",
   "execution_count": 87,
   "metadata": {},
   "outputs": [],
   "source": [
    "output_file = 'training_text.txt'\n",
    "\n",
    "for column_name in ['Product_desc', 'Expert Review', 'Customer Review', 'varietal_description', 'taste_description']:\n",
    "    for text in df[column_name]:\n",
    "        if not pd.isna(text): \n",
    "            create_training_text(text, output_file)\n"
   ]
  },
  {
   "cell_type": "code",
   "execution_count": 88,
   "metadata": {},
   "outputs": [
    {
     "name": "stderr",
     "output_type": "stream",
     "text": [
      "[nltk_data] Downloading package punkt to\n",
      "[nltk_data]     C:\\Users\\20571\\AppData\\Roaming\\nltk_data...\n",
      "[nltk_data]   Package punkt is already up-to-date!\n"
     ]
    }
   ],
   "source": [
    "import nltk\n",
    "\n",
    "nltk.download('punkt')\n",
    "\n",
    "from nltk.tokenize import sent_tokenize\n",
    "\n",
    "with open('training_text.txt', 'r', encoding='utf-8') as file:\n",
    "    text = file.read()\n",
    "\n",
    "sentences = sent_tokenize(text)\n",
    "fixed_sentences = []\n",
    "i = 0\n",
    "while i < len(sentences):\n",
    "    if i < len(sentences) - 1 and re.search(r'\\b[Nn]o\\.\\s?', sentences[i]):\n",
    "        # 如果当前句子以 \"no.\" 结尾，且下一句以数字开头，则合并它们\n",
    "        fixed_sentence = sentences[i] + \" \" + sentences[i + 1]\n",
    "        fixed_sentences.append(fixed_sentence)\n",
    "        i += 2  # 跳过下一句\n",
    "    else:\n",
    "        fixed_sentences.append(sentences[i])\n",
    "        i += 1\n",
    "\n",
    "with open('training_text.txt', 'w', encoding='utf-8') as file:\n",
    "    for sentence in fixed_sentences:\n",
    "            file.write(sentence + '\\n')\n",
    "\n"
   ]
  },
  {
   "cell_type": "code",
   "execution_count": 89,
   "metadata": {},
   "outputs": [
    {
     "name": "stdout",
     "output_type": "stream",
     "text": [
      "Max Sequence Length: 649\n"
     ]
    }
   ],
   "source": [
    "with open('training_text.txt', 'r', encoding='utf-8') as file:\n",
    "    lines = file.readlines()\n",
    "\n",
    "unique_lines = list(set(lines))\n",
    "max_seq_len = max(len(line) for line in lines)\n",
    "\n",
    "with open('training_text.txt', 'w', encoding='utf-8') as file:\n",
    "    for line in lines:\n",
    "        if line.strip():\n",
    "            file.write(line)\n",
    "    file.writelines(unique_lines)\n",
    "    \n",
    "print(\"Max Sequence Length:\", max_seq_len)"
   ]
  },
  {
   "cell_type": "code",
   "execution_count": null,
   "metadata": {},
   "outputs": [],
   "source": []
  }
 ],
 "metadata": {
  "kernelspec": {
   "display_name": "intellrsys",
   "language": "python",
   "name": "python3"
  },
  "language_info": {
   "codemirror_mode": {
    "name": "ipython",
    "version": 3
   },
   "file_extension": ".py",
   "mimetype": "text/x-python",
   "name": "python",
   "nbconvert_exporter": "python",
   "pygments_lexer": "ipython3",
   "version": "3.10.12"
  }
 },
 "nbformat": 4,
 "nbformat_minor": 2
}
